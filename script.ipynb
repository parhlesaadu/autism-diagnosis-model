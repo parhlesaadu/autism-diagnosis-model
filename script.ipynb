{
 "cells": [
  {
   "cell_type": "code",
   "execution_count": 10,
   "metadata": {},
   "source": [
    "city = input('Enter your city: ')\n",
    "if city == 'Lahore':\n",
    "    print('Autistic')\n",
    "else:\n",
    "    print('Not autistic')\n\n",
    "# kela nahi khana lahoriyo :>"
   ]
  }
 ],
 "metadata": {
  "kernelspec": {
   "display_name": "base",
   "language": "python",
   "name": "python3"
  },
  "language_info": {
   "codemirror_mode": {
    "name": "ipython",
    "version": 3
   },
   "file_extension": ".py",
   "mimetype": "text/x-python",
   "name": "python",
   "nbconvert_exporter": "python",
   "pygments_lexer": "ipython3",
   "version": "3.12.4"
  }
 },
 "nbformat": 4,
 "nbformat_minor": 2
}
